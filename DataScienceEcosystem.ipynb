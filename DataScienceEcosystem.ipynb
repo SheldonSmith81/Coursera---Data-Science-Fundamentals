{
 "cells": [
  {
   "cell_type": "markdown",
   "id": "8d4b95e9-2f79-49bc-8cca-c5124b5af809",
   "metadata": {},
   "source": [
    "# Data Science Tools and Ecosystem\n"
   ]
  },
  {
   "cell_type": "markdown",
   "id": "0b9d94cb-87df-463b-b444-1fd94d0ee51c",
   "metadata": {},
   "source": [
    "In this notebook, Data Science Tools and Ecosystem are summarized."
   ]
  },
  {
   "cell_type": "markdown",
   "id": "2a04b1ef-20b3-415d-86f2-4ad3692e4fa5",
   "metadata": {},
   "source": [
    "__Objectives:__"
   ]
  },
  {
   "cell_type": "markdown",
   "id": "e6cf2bf5-205b-4a38-8beb-3295f038567a",
   "metadata": {},
   "source": [
    "- List popular languages for Data Science\n",
    "- List commonly used libraries\n",
    "- Create a table\n",
    "- Perform some arithmetic\n",
    "- Use markdown styles (i.e. H1, bold)"
   ]
  },
  {
   "cell_type": "markdown",
   "id": "452afe80-bfd2-41eb-bbc7-d74f5385644c",
   "metadata": {},
   "source": [
    "Some of the popular languages that Data Scientists use are:"
   ]
  },
  {
   "cell_type": "markdown",
   "id": "4db2e16c-6204-4380-a607-d08e0197c933",
   "metadata": {},
   "source": [
    "1. Python\n",
    "2. R\n",
    "3. Julia"
   ]
  },
  {
   "cell_type": "markdown",
   "id": "7efd4048-0eb6-49dc-bfd3-b40ce741b98c",
   "metadata": {},
   "source": [
    "Some of the commonly used libraries used by Data Scientists include:"
   ]
  },
  {
   "cell_type": "markdown",
   "id": "ff7df9f6-1b8c-4fdd-8be6-501063270d62",
   "metadata": {},
   "source": [
    "1. ggplot2\n",
    "2. Lattice\n",
    "3. Pandas"
   ]
  },
  {
   "cell_type": "markdown",
   "id": "3a4487af-79df-4322-a7f8-f3dd1722f54b",
   "metadata": {},
   "source": [
    "|Data Science Tools|\n",
    "|---|\n",
    "|Jupyter Notebook|\n",
    "|RStudio|\n",
    "|Watson Studio|"
   ]
  },
  {
   "cell_type": "markdown",
   "id": "87635493-1902-4fbd-b806-a2a9f8da22cc",
   "metadata": {},
   "source": [
    "### Below are a few examples of evaluating arithmetic expressions in Python"
   ]
  },
  {
   "cell_type": "markdown",
   "id": "3b03f3dd-5dcf-45e8-b4a8-f408d1ef63fa",
   "metadata": {},
   "source": [
    "_This a simple arithmetic expression to mutiply then add integers_"
   ]
  },
  {
   "cell_type": "code",
   "execution_count": 1,
   "id": "076534fe-6b68-4e90-83a2-22ccf1875a53",
   "metadata": {},
   "outputs": [
    {
     "data": {
      "text/plain": [
       "17"
      ]
     },
     "execution_count": 1,
     "metadata": {},
     "output_type": "execute_result"
    }
   ],
   "source": [
    "(3*4)+5"
   ]
  },
  {
   "cell_type": "markdown",
   "id": "ddb6eacf-8a04-41d7-abaf-e45de003d8d7",
   "metadata": {},
   "source": [
    "_This will convert 200 minutes to hours by dividing by 60_"
   ]
  },
  {
   "cell_type": "code",
   "execution_count": 1,
   "id": "f50d5d01-e379-4451-b001-62a1b9f5d779",
   "metadata": {},
   "outputs": [
    {
     "data": {
      "text/plain": [
       "3.3333333333333335"
      ]
     },
     "execution_count": 1,
     "metadata": {},
     "output_type": "execute_result"
    }
   ],
   "source": [
    "200/60"
   ]
  },
  {
   "cell_type": "markdown",
   "id": "bc3e83d8-1b50-4829-8058-96d9921d1d6e",
   "metadata": {},
   "source": [
    "## Author"
   ]
  },
  {
   "cell_type": "markdown",
   "id": "4d6954c6-f2e8-4865-b6bc-360dd5b00060",
   "metadata": {},
   "source": [
    "Sheldon Smith"
   ]
  },
  {
   "cell_type": "code",
   "execution_count": null,
   "id": "7c096da8-e269-459b-99d6-12775f6cbae1",
   "metadata": {},
   "outputs": [],
   "source": []
  }
 ],
 "metadata": {
  "kernelspec": {
   "display_name": "Python 3 (ipykernel)",
   "language": "python",
   "name": "python3"
  },
  "language_info": {
   "codemirror_mode": {
    "name": "ipython",
    "version": 3
   },
   "file_extension": ".py",
   "mimetype": "text/x-python",
   "name": "python",
   "nbconvert_exporter": "python",
   "pygments_lexer": "ipython3",
   "version": "3.12.8"
  }
 },
 "nbformat": 4,
 "nbformat_minor": 5
}
